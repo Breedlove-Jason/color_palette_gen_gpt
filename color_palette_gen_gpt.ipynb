{
 "cells": [
  {
   "cell_type": "code",
   "id": "initial_id",
   "metadata": {
    "collapsed": true,
    "ExecuteTime": {
     "end_time": "2024-09-30T23:45:51.120855Z",
     "start_time": "2024-09-30T23:45:51.118776Z"
    }
   },
   "source": [
    "from openai import OpenAI\n",
    "from dotenv import dotenv_values"
   ],
   "outputs": [],
   "execution_count": 17
  },
  {
   "metadata": {},
   "cell_type": "markdown",
   "source": "",
   "id": "775a9d7402620ce2"
  },
  {
   "metadata": {
    "ExecuteTime": {
     "end_time": "2024-09-30T23:45:54.171247Z",
     "start_time": "2024-09-30T23:45:54.168793Z"
    }
   },
   "cell_type": "code",
   "source": "config = dotenv_values(\"config/.env\")",
   "id": "c7352d90416ac414",
   "outputs": [],
   "execution_count": 18
  },
  {
   "metadata": {
    "ExecuteTime": {
     "end_time": "2024-09-30T23:45:55.595905Z",
     "start_time": "2024-09-30T23:45:55.587181Z"
    }
   },
   "cell_type": "code",
   "source": [
    "client = OpenAI(\n",
    "    api_key=config['OPENAI_API_KEY']  # this is also the default, it can be omitted\n",
    ")"
   ],
   "id": "8551505f0e64b69b",
   "outputs": [],
   "execution_count": 19
  },
  {
   "metadata": {},
   "cell_type": "markdown",
   "source": "",
   "id": "26347c95a2bc44f4"
  },
  {
   "metadata": {
    "ExecuteTime": {
     "end_time": "2024-09-30T23:56:33.031961Z",
     "start_time": "2024-09-30T23:56:21.778168Z"
    }
   },
   "cell_type": "code",
   "source": [
    "completion = client.chat.completions.create(model=\"gpt-4o-mini\", messages=[\n",
    "    {\"role\": \"user\", \"content\": \"Generate a color palette for a website\"}])\n",
    "\n",
    "\n",
    "print(completion.choices[0].message.content)"
   ],
   "id": "3178f4344badc86f",
   "outputs": [
    {
     "name": "stdout",
     "output_type": "stream",
     "text": [
      "Creating a color palette for a website involves choosing colors that work well together, convey the right emotions, and enhance usability. Here’s a suggested color palette along with its applications:\n",
      "\n",
      "### Color Palette:\n",
      "\n",
      "1. **Primary Color**: \n",
      "   - **Hex**: #3498DB\n",
      "   - **RGB**: (52, 152, 219)\n",
      "   - **Usage**: Use for headers, buttons, and prominent links.\n",
      "\n",
      "2. **Secondary Color**: \n",
      "   - **Hex**: #2ECC71\n",
      "   - **RGB**: (46, 204, 113)\n",
      "   - **Usage**: Use for accents, call-to-action buttons, and highlights.\n",
      "\n",
      "3. **Background Color**:\n",
      "   - **Hex**: #ECF0F1\n",
      "   - **RGB**: (236, 240, 241)\n",
      "   - **Usage**: Use for the overall background to maintain a light and clean aesthetic.\n",
      "\n",
      "4. **Text Color**:\n",
      "   - **Hex**: #2C3E50\n",
      "   - **RGB**: (44, 62, 80)\n",
      "   - **Usage**: Use for body text and navigation links for easy readability.\n",
      "\n",
      "5. **Accent Color**:\n",
      "   - **Hex**: #E74C3C\n",
      "   - **RGB**: (231, 76, 60)\n",
      "   - **Usage**: Use for error messages, alerts, or to draw attention to specific elements.\n",
      "\n",
      "6. **Neutral Color**:\n",
      "   - **Hex**: #BDC3C7\n",
      "   - **RGB**: (189, 195, 199)\n",
      "   - **Usage**: Use for borders, dividers, and secondary text.\n",
      "\n",
      "### Example Use Case:\n",
      "\n",
      "- **Buttons**: Use the primary color (#3498DB) for main buttons and the secondary color (#2ECC71) for hover states.\n",
      "- **Links**: Use the primary color for regular links and change to the accent color (#E74C3C) on hover.\n",
      "- **Backgrounds**: Use the background color (#ECF0F1) across the site, with sections using the neutral color (#BDC3C7) for a subtle division.\n",
      "\n",
      "### Considerations:\n",
      "- Ensure sufficient contrast between text and background for readability.\n",
      "- Test your palette on different devices and lighting to ensure colors remain visually appealing.\n",
      "- Consider accessibility standards, such as the WCAG guidelines, to ensure that color choices are inclusive.\n",
      "\n",
      "Feel free to adjust these colors based on your brand identity and message!\n"
     ]
    }
   ],
   "execution_count": 26
  },
  {
   "metadata": {},
   "cell_type": "code",
   "outputs": [],
   "execution_count": null,
   "source": "",
   "id": "b4cc4103a765823c"
  }
 ],
 "metadata": {
  "kernelspec": {
   "display_name": "Python 3",
   "language": "python",
   "name": "python3"
  },
  "language_info": {
   "codemirror_mode": {
    "name": "ipython",
    "version": 2
   },
   "file_extension": ".py",
   "mimetype": "text/x-python",
   "name": "python",
   "nbconvert_exporter": "python",
   "pygments_lexer": "ipython2",
   "version": "2.7.6"
  }
 },
 "nbformat": 4,
 "nbformat_minor": 5
}
