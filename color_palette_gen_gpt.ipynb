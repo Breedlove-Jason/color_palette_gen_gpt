{
 "cells": [
  {
   "cell_type": "code",
   "id": "initial_id",
   "metadata": {
    "collapsed": true,
    "ExecuteTime": {
     "end_time": "2024-10-01T00:15:04.535135Z",
     "start_time": "2024-10-01T00:15:04.359288Z"
    }
   },
   "source": [
    "from openai import OpenAI\n",
    "from dotenv import dotenv_values"
   ],
   "outputs": [],
   "execution_count": 3
  },
  {
   "metadata": {},
   "cell_type": "markdown",
   "source": "",
   "id": "775a9d7402620ce2"
  },
  {
   "metadata": {
    "ExecuteTime": {
     "end_time": "2024-10-01T00:15:04.540347Z",
     "start_time": "2024-10-01T00:15:04.538430Z"
    }
   },
   "cell_type": "code",
   "source": "config = dotenv_values(\"config/.env\")",
   "id": "c7352d90416ac414",
   "outputs": [],
   "execution_count": 4
  },
  {
   "metadata": {
    "ExecuteTime": {
     "end_time": "2024-10-01T00:15:04.568111Z",
     "start_time": "2024-10-01T00:15:04.548599Z"
    }
   },
   "cell_type": "code",
   "source": [
    "client = OpenAI(\n",
    "    api_key=config['OPENAI_API_KEY']  # this is also the default, it can be omitted\n",
    ")"
   ],
   "id": "8551505f0e64b69b",
   "outputs": [],
   "execution_count": 5
  },
  {
   "metadata": {
    "ExecuteTime": {
     "end_time": "2024-10-01T00:26:53.904826Z",
     "start_time": "2024-10-01T00:26:53.902395Z"
    }
   },
   "cell_type": "code",
   "source": [
    "prompt = \"\"\"You are a color palette generating assistant that responds to text prompts for color palettes. You should generate color palettes that fit the theme, mood, or description of the text prompt. The color palette should be a list of hexadecimal color codes between 2 and 8 colors.\n",
    "\n",
    "Desired Format: a Python list of hexadecimal color codes\n",
    "\n",
    "Text: The Mediterranean Seas\n",
    "\n",
    "Result:\n",
    "\"\"\""
   ],
   "id": "b0ac59cd7e858ab3",
   "outputs": [],
   "execution_count": 17
  },
  {
   "metadata": {
    "ExecuteTime": {
     "end_time": "2024-10-01T00:26:55.795721Z",
     "start_time": "2024-10-01T00:26:54.845161Z"
    }
   },
   "cell_type": "code",
   "source": [
    "completion = client.chat.completions.create(model=\"gpt-4o-mini\", messages=[\n",
    "    {\"role\": \"user\", \"content\": prompt},])\n",
    "\n",
    "\n",
    "print(completion.choices[0].message.content)\n"
   ],
   "id": "3178f4344badc86f",
   "outputs": [
    {
     "name": "stdout",
     "output_type": "stream",
     "text": [
      "```python\n",
      "['#2E8BC0', '#F7C6A9', '#F8E4A1', '#C5D86D', '#4D8C2D', '#8B5B29']\n",
      "```\n"
     ]
    }
   ],
   "execution_count": 18
  },
  {
   "metadata": {},
   "cell_type": "code",
   "outputs": [],
   "execution_count": null,
   "source": "",
   "id": "29d672cf77aff70a"
  }
 ],
 "metadata": {
  "kernelspec": {
   "display_name": "Python 3",
   "language": "python",
   "name": "python3"
  },
  "language_info": {
   "codemirror_mode": {
    "name": "ipython",
    "version": 2
   },
   "file_extension": ".py",
   "mimetype": "text/x-python",
   "name": "python",
   "nbconvert_exporter": "python",
   "pygments_lexer": "ipython2",
   "version": "2.7.6"
  }
 },
 "nbformat": 4,
 "nbformat_minor": 5
}
